{
 "cells": [
  {
   "cell_type": "code",
   "execution_count": 20,
   "id": "28f5ddea",
   "metadata": {},
   "outputs": [],
   "source": [
    "import sys\n",
    "sys.path.append(\"/home/sdorgan/dgsi/dvf\")\n",
    "sys.path.append(\"/home/sdorgan/dgsi/reveal\")"
   ]
  },
  {
   "cell_type": "code",
   "execution_count": 21,
   "id": "c273db2f-804d-49f1-b9c9-7cec47df19d7",
   "metadata": {},
   "outputs": [],
   "source": [
    "import ipyvuetify as v\n",
    "import pandas as pd\n",
    "from reveal.orientapi import OrientDBClient\n",
    "from reveal.ontologies import create_schema_graph\n",
    "from dvf.model import Mutation\n",
    "from ipycytoscape import CytoscapeWidget\n",
    "import networkx as nx\n",
    "from ipyleaflet import Map, Marker\n",
    "import shapely.geometry as sg\n",
    "import reveal.views.dataframe as data_view\n",
    "import reveal.views.model as model_view\n",
    "import reveal.views.carto as carto_view\n",
    "import reveal.views.graph as graph_view\n",
    "import dvf.views.filter as filter_view"
   ]
  },
  {
   "cell_type": "code",
   "execution_count": 22,
   "id": "6755814e-6576-470d-972b-e491a75e32d8",
   "metadata": {},
   "outputs": [],
   "source": [
    "colors = {\n",
    "    \"Mutation\":\"grey\",\n",
    "    \"Disposition\":\"red\",\n",
    "    \"Lot\":\"blue\",\n",
    "    \"Volume\":\"blue\",\n",
    "    \"Suf\":\"blue\",\n",
    "    \"Local\":\"blue\",\n",
    "    \"Parcelle\":\"green\",\n",
    "    \"Adresse\":\"yellow\",\n",
    "    \"Media\":\"peachpuff\"\n",
    "}\n",
    "\n",
    "database = \"DVF3\"\n",
    "\n",
    "hidden_keys = [\n",
    "    \"id\",\n",
    "    \"rid\",\n",
    "    \"_type\",\n",
    "    \"@type\",\n",
    "    \"@version\",\n",
    "    \"_version\",\n",
    "    \"vertex_id\",\n",
    "    \"_fieldTypes\",\n",
    "    \"_label\"\n",
    "]\n",
    "\n",
    "frozen_keys = [\n",
    "    \"_rid\",\n",
    "    \"_class\",\n",
    "    \"location\",\n",
    "]\n",
    "    \n",
    "view_graph = graph_view.create(database, None, colors, hidden_keys=hidden_keys, frozen_keys=frozen_keys)\n",
    "view_filter = None\n",
    "\n",
    "def on_item_selected(item):\n",
    "    if \"@rid\" not in item:\n",
    "        return\n",
    "    print(item)\n",
    "    elt_id = item[\"@rid\"]\n",
    "    view_filter.center_on(elt_id, 16)\n",
    "    view_graph.update_graph(elt_id)\n",
    "\n",
    "\n",
    "view_data = data_view.create(on_item_selected=on_item_selected)\n",
    "\n",
    "def on_data_loaded(data: pd.DataFrame) -> None:\n",
    "    if data is None or len(data) == 0:\n",
    "        view_data.update(pd.DataFrame())\n",
    "        return\n",
    "    columns = [\"date\", \"valeur_fonciere\",\"nature_mutation\", \"no_voie\", \"type_de_voie\", \"voie\", \"code_postal\", \"commune\"]\n",
    "    view_data.update(data[columns])\n",
    "view_filter = filter_view.create(database, on_data_loaded=on_data_loaded, max_displayable_elements=500)\n"
   ]
  },
  {
   "cell_type": "code",
   "execution_count": 23,
   "id": "1ebb27ab-f9d0-455f-ac89-eeaea77b4f9c",
   "metadata": {},
   "outputs": [
    {
     "data": {
      "application/vnd.jupyter.widget-view+json": {
       "model_id": "b0f80fd5ef9c4d85a2b2d85b3bd437ec",
       "version_major": 2,
       "version_minor": 0
      },
      "text/plain": [
       "FilterWidget(children=[Html(children=[Layout(children=[Map(center=[46.227638, 2.213749], controls=(ZoomControl…"
      ]
     },
     "metadata": {},
     "output_type": "display_data"
    }
   ],
   "source": [
    "display(view_filter)"
   ]
  },
  {
   "cell_type": "code",
   "execution_count": 25,
   "id": "a3687fa0-e942-4595-9376-cec3680f7510",
   "metadata": {},
   "outputs": [
    {
     "data": {
      "application/vnd.jupyter.widget-view+json": {
       "model_id": "5eb567adae4a40dfb9af6933f6cdc196",
       "version_major": 2,
       "version_minor": 0
      },
      "text/plain": [
       "DataFrameView(events=['row_clicked'], headers=[{'text': 'index', 'value': 'index', 'align': 'left', 'sortable'…"
      ]
     },
     "metadata": {},
     "output_type": "display_data"
    }
   ],
   "source": [
    "display(view_data)"
   ]
  },
  {
   "cell_type": "code",
   "execution_count": 26,
   "id": "92f1facb-462e-4913-bf6f-932a6d2b7e14",
   "metadata": {},
   "outputs": [
    {
     "data": {
      "application/vnd.jupyter.widget-view+json": {
       "model_id": "04cc1f43a9c24de88b9a333f1adaf274",
       "version_major": 2,
       "version_minor": 0
      },
      "text/plain": [
       "GrahView(children=[Html(children=[Layout(children=[Menu(children=[List(children=[ListItem(children=[ListItemTi…"
      ]
     },
     "metadata": {},
     "output_type": "display_data"
    }
   ],
   "source": [
    "display(view_graph)"
   ]
  },
  {
   "cell_type": "code",
   "execution_count": null,
   "id": "108e5a16-d6ce-4fa2-9bb1-de964b11c6c0",
   "metadata": {},
   "outputs": [],
   "source": []
  },
  {
   "cell_type": "code",
   "execution_count": null,
   "id": "c3cc3af4-2723-499d-888d-cb81c7215200",
   "metadata": {},
   "outputs": [],
   "source": []
  }
 ],
 "metadata": {
  "kernelspec": {
   "display_name": "Python 3",
   "language": "python",
   "name": "python3"
  },
  "language_info": {
   "codemirror_mode": {
    "name": "ipython",
    "version": 3
   },
   "file_extension": ".py",
   "mimetype": "text/x-python",
   "name": "python",
   "nbconvert_exporter": "python",
   "pygments_lexer": "ipython3",
   "version": "3.8.5"
  }
 },
 "nbformat": 4,
 "nbformat_minor": 5
}
