{
 "cells": [
  {
   "cell_type": "code",
   "execution_count": 1,
   "id": "28f5ddea",
   "metadata": {},
   "outputs": [],
   "source": [
    "import ipyvuetify as v\n",
    "import pandas as pd\n",
    "from reveal.orientapi import OrientDBClient\n",
    "from reveal.ontologies import create_schema_graph\n",
    "from dvf.model import Mutation\n",
    "from ipycytoscape import CytoscapeWidget\n",
    "import networkx as nx\n",
    "from ipyleaflet import Map, Marker\n",
    "import shapely.geometry as sg\n",
    "from reveal.views.dataframe import DataFrameView\n",
    "import reveal.views.model as model_view\n",
    "import reveal.views.carto as carto_view\n",
    "import reveal.views.graph as graph_view"
   ]
  },
  {
   "cell_type": "code",
   "execution_count": 2,
   "id": "132bea66-1310-4972-a633-8405d8bb98e4",
   "metadata": {},
   "outputs": [
    {
     "data": {
      "application/vnd.jupyter.widget-view+json": {
       "model_id": "980a8da13c1c4c14bc44fcb2d2182e21",
       "version_major": 2,
       "version_minor": 0
      },
      "text/plain": [
       "Container(children=[Layout(children=[Menu(children=[List(children=[ListItem(children=[ListItemTitle(children=[…"
      ]
     },
     "metadata": {},
     "output_type": "display_data"
    }
   ],
   "source": [
    "model_view.create(Mutation)"
   ]
  },
  {
   "cell_type": "code",
   "execution_count": null,
   "id": "e510238d-2548-4175-9b6c-0aec3839ed05",
   "metadata": {},
   "outputs": [],
   "source": []
  },
  {
   "cell_type": "code",
   "execution_count": null,
   "id": "2ed99590-92ad-4d3c-b10b-00258312cc57",
   "metadata": {},
   "outputs": [],
   "source": []
  }
 ],
 "metadata": {
  "kernelspec": {
   "display_name": "Python 3",
   "language": "python",
   "name": "python3"
  },
  "language_info": {
   "codemirror_mode": {
    "name": "ipython",
    "version": 3
   },
   "file_extension": ".py",
   "mimetype": "text/x-python",
   "name": "python",
   "nbconvert_exporter": "python",
   "pygments_lexer": "ipython3",
   "version": "3.8.5"
  }
 },
 "nbformat": 4,
 "nbformat_minor": 5
}
